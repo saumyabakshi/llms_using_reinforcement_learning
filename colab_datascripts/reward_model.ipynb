{
 "cells": [
  {
   "cell_type": "code",
   "execution_count": 11,
   "metadata": {},
   "outputs": [
    {
     "data": {
      "text/html": [
       "<div>\n",
       "<style scoped>\n",
       "    .dataframe tbody tr th:only-of-type {\n",
       "        vertical-align: middle;\n",
       "    }\n",
       "\n",
       "    .dataframe tbody tr th {\n",
       "        vertical-align: top;\n",
       "    }\n",
       "\n",
       "    .dataframe thead th {\n",
       "        text-align: right;\n",
       "    }\n",
       "</style>\n",
       "<table border=\"1\" class=\"dataframe\">\n",
       "  <thead>\n",
       "    <tr style=\"text-align: right;\">\n",
       "      <th></th>\n",
       "      <th>Unnamed: 0</th>\n",
       "      <th>Prompt</th>\n",
       "      <th>Accepted_response</th>\n",
       "      <th>Rejected_response</th>\n",
       "    </tr>\n",
       "  </thead>\n",
       "  <tbody>\n",
       "    <tr>\n",
       "      <th>0</th>\n",
       "      <td>0</td>\n",
       "      <td>Corruption involving the contractors is the ch...</td>\n",
       "      <td>Corruption involving the contractors is the ch...</td>\n",
       "      <td>Corruption involving the contractors is the ch...</td>\n",
       "    </tr>\n",
       "    <tr>\n",
       "      <th>1</th>\n",
       "      <td>1</td>\n",
       "      <td>5][6][7] The term was coined by the author Maki</td>\n",
       "      <td>5][6][7] The term was coined by the author Mak...</td>\n",
       "      <td>5][6][7] The term was coined by the author Mak...</td>\n",
       "    </tr>\n",
       "    <tr>\n",
       "      <th>2</th>\n",
       "      <td>2</td>\n",
       "      <td>As for the internals, the people with the most...</td>\n",
       "      <td>As for the internals, the people with the most...</td>\n",
       "      <td>As for the internals, the people with the most...</td>\n",
       "    </tr>\n",
       "    <tr>\n",
       "      <th>3</th>\n",
       "      <td>3</td>\n",
       "      <td>On March 2, 2017, roughly 100 of our</td>\n",
       "      <td>On March 2, 2017, roughly 100 of our members a...</td>\n",
       "      <td>On March 2, 2017, roughly 100 of our members a...</td>\n",
       "    </tr>\n",
       "    <tr>\n",
       "      <th>4</th>\n",
       "      <td>4</td>\n",
       "      <td>Syrian Democratic Forces’ spokesman, Talal Sil...</td>\n",
       "      <td>Syrian Democratic Forces’ spokesman, Talal Sil...</td>\n",
       "      <td>Syrian Democratic Forces’ spokesman, Talal Sil...</td>\n",
       "    </tr>\n",
       "  </tbody>\n",
       "</table>\n",
       "</div>"
      ],
      "text/plain": [
       "   Unnamed: 0                                             Prompt  \\\n",
       "0           0  Corruption involving the contractors is the ch...   \n",
       "1           1    5][6][7] The term was coined by the author Maki   \n",
       "2           2  As for the internals, the people with the most...   \n",
       "3           3               On March 2, 2017, roughly 100 of our   \n",
       "4           4  Syrian Democratic Forces’ spokesman, Talal Sil...   \n",
       "\n",
       "                                   Accepted_response  \\\n",
       "0  Corruption involving the contractors is the ch...   \n",
       "1  5][6][7] The term was coined by the author Mak...   \n",
       "2  As for the internals, the people with the most...   \n",
       "3  On March 2, 2017, roughly 100 of our members a...   \n",
       "4  Syrian Democratic Forces’ spokesman, Talal Sil...   \n",
       "\n",
       "                                   Rejected_response  \n",
       "0  Corruption involving the contractors is the ch...  \n",
       "1  5][6][7] The term was coined by the author Mak...  \n",
       "2  As for the internals, the people with the most...  \n",
       "3  On March 2, 2017, roughly 100 of our members a...  \n",
       "4  Syrian Democratic Forces’ spokesman, Talal Sil...  "
      ]
     },
     "execution_count": 11,
     "metadata": {},
     "output_type": "execute_result"
    }
   ],
   "source": [
    "import pandas as pd\n",
    "\n",
    "combined_df = pd.read_csv('../datasets/first_100/accepted_rejected_responses.csv')\n",
    "combined_df.head()"
   ]
  },
  {
   "cell_type": "code",
   "execution_count": 5,
   "metadata": {},
   "outputs": [
    {
     "name": "stdout",
     "output_type": "stream",
     "text": [
      "Requirement already satisfied: trl in /Users/saumyabakshi/anaconda3/lib/python3.11/site-packages (0.7.4)\n",
      "Requirement already satisfied: torch>=1.4.0 in /Users/saumyabakshi/anaconda3/lib/python3.11/site-packages (from trl) (2.0.1)\n",
      "Requirement already satisfied: transformers>=4.18.0 in /Users/saumyabakshi/anaconda3/lib/python3.11/site-packages (from trl) (4.29.2)\n",
      "Requirement already satisfied: numpy>=1.18.2 in /Users/saumyabakshi/anaconda3/lib/python3.11/site-packages (from trl) (1.24.3)\n",
      "Requirement already satisfied: accelerate in /Users/saumyabakshi/anaconda3/lib/python3.11/site-packages (from trl) (0.24.1)\n",
      "Requirement already satisfied: datasets in /Users/saumyabakshi/anaconda3/lib/python3.11/site-packages (from trl) (2.12.0)\n",
      "Requirement already satisfied: tyro>=0.5.11 in /Users/saumyabakshi/anaconda3/lib/python3.11/site-packages (from trl) (0.5.17)\n",
      "Requirement already satisfied: filelock in /Users/saumyabakshi/anaconda3/lib/python3.11/site-packages (from torch>=1.4.0->trl) (3.9.0)\n",
      "Requirement already satisfied: typing-extensions in /Users/saumyabakshi/anaconda3/lib/python3.11/site-packages (from torch>=1.4.0->trl) (4.5.0)\n",
      "Requirement already satisfied: sympy in /Users/saumyabakshi/anaconda3/lib/python3.11/site-packages (from torch>=1.4.0->trl) (1.11.1)\n",
      "Requirement already satisfied: networkx in /Users/saumyabakshi/anaconda3/lib/python3.11/site-packages (from torch>=1.4.0->trl) (2.8.8)\n",
      "Requirement already satisfied: jinja2 in /Users/saumyabakshi/anaconda3/lib/python3.11/site-packages (from torch>=1.4.0->trl) (3.1.2)\n",
      "Requirement already satisfied: huggingface-hub<1.0,>=0.14.1 in /Users/saumyabakshi/anaconda3/lib/python3.11/site-packages (from transformers>=4.18.0->trl) (0.15.1)\n",
      "Requirement already satisfied: packaging>=20.0 in /Users/saumyabakshi/anaconda3/lib/python3.11/site-packages (from transformers>=4.18.0->trl) (23.0)\n",
      "Requirement already satisfied: pyyaml>=5.1 in /Users/saumyabakshi/anaconda3/lib/python3.11/site-packages (from transformers>=4.18.0->trl) (6.0)\n",
      "Requirement already satisfied: regex!=2019.12.17 in /Users/saumyabakshi/anaconda3/lib/python3.11/site-packages (from transformers>=4.18.0->trl) (2022.7.9)\n",
      "Requirement already satisfied: requests in /Users/saumyabakshi/anaconda3/lib/python3.11/site-packages (from transformers>=4.18.0->trl) (2.31.0)\n",
      "Requirement already satisfied: tokenizers!=0.11.3,<0.14,>=0.11.1 in /Users/saumyabakshi/anaconda3/lib/python3.11/site-packages (from transformers>=4.18.0->trl) (0.13.2)\n",
      "Requirement already satisfied: tqdm>=4.27 in /Users/saumyabakshi/anaconda3/lib/python3.11/site-packages (from transformers>=4.18.0->trl) (4.65.0)\n",
      "Requirement already satisfied: docstring-parser>=0.14.1 in /Users/saumyabakshi/anaconda3/lib/python3.11/site-packages (from tyro>=0.5.11->trl) (0.15)\n",
      "Requirement already satisfied: rich>=11.1.0 in /Users/saumyabakshi/anaconda3/lib/python3.11/site-packages (from tyro>=0.5.11->trl) (13.7.0)\n",
      "Requirement already satisfied: shtab>=1.5.6 in /Users/saumyabakshi/anaconda3/lib/python3.11/site-packages (from tyro>=0.5.11->trl) (1.6.4)\n",
      "Requirement already satisfied: psutil in /Users/saumyabakshi/anaconda3/lib/python3.11/site-packages (from accelerate->trl) (5.9.0)\n",
      "Requirement already satisfied: pyarrow>=8.0.0 in /Users/saumyabakshi/anaconda3/lib/python3.11/site-packages (from datasets->trl) (11.0.0)\n",
      "Requirement already satisfied: dill<0.3.7,>=0.3.0 in /Users/saumyabakshi/anaconda3/lib/python3.11/site-packages (from datasets->trl) (0.3.6)\n",
      "Requirement already satisfied: pandas in /Users/saumyabakshi/anaconda3/lib/python3.11/site-packages (from datasets->trl) (1.5.3)\n",
      "Requirement already satisfied: xxhash in /Users/saumyabakshi/anaconda3/lib/python3.11/site-packages (from datasets->trl) (2.0.2)\n",
      "Requirement already satisfied: multiprocess in /Users/saumyabakshi/anaconda3/lib/python3.11/site-packages (from datasets->trl) (0.70.14)\n",
      "Requirement already satisfied: fsspec[http]>=2021.11.1 in /Users/saumyabakshi/anaconda3/lib/python3.11/site-packages (from datasets->trl) (2023.4.0)\n",
      "Requirement already satisfied: aiohttp in /Users/saumyabakshi/anaconda3/lib/python3.11/site-packages (from datasets->trl) (3.8.3)\n",
      "Requirement already satisfied: responses<0.19 in /Users/saumyabakshi/anaconda3/lib/python3.11/site-packages (from datasets->trl) (0.13.3)\n",
      "Requirement already satisfied: attrs>=17.3.0 in /Users/saumyabakshi/anaconda3/lib/python3.11/site-packages (from aiohttp->datasets->trl) (22.1.0)\n",
      "Requirement already satisfied: charset-normalizer<3.0,>=2.0 in /Users/saumyabakshi/anaconda3/lib/python3.11/site-packages (from aiohttp->datasets->trl) (2.0.4)\n",
      "Requirement already satisfied: multidict<7.0,>=4.5 in /Users/saumyabakshi/anaconda3/lib/python3.11/site-packages (from aiohttp->datasets->trl) (6.0.2)\n",
      "Requirement already satisfied: async-timeout<5.0,>=4.0.0a3 in /Users/saumyabakshi/anaconda3/lib/python3.11/site-packages (from aiohttp->datasets->trl) (4.0.2)\n",
      "Requirement already satisfied: yarl<2.0,>=1.0 in /Users/saumyabakshi/anaconda3/lib/python3.11/site-packages (from aiohttp->datasets->trl) (1.8.1)\n",
      "Requirement already satisfied: frozenlist>=1.1.1 in /Users/saumyabakshi/anaconda3/lib/python3.11/site-packages (from aiohttp->datasets->trl) (1.3.3)\n",
      "Requirement already satisfied: aiosignal>=1.1.2 in /Users/saumyabakshi/anaconda3/lib/python3.11/site-packages (from aiohttp->datasets->trl) (1.2.0)\n",
      "Requirement already satisfied: idna<4,>=2.5 in /Users/saumyabakshi/anaconda3/lib/python3.11/site-packages (from requests->transformers>=4.18.0->trl) (3.4)\n",
      "Requirement already satisfied: urllib3<3,>=1.21.1 in /Users/saumyabakshi/anaconda3/lib/python3.11/site-packages (from requests->transformers>=4.18.0->trl) (1.26.16)\n",
      "Requirement already satisfied: certifi>=2017.4.17 in /Users/saumyabakshi/anaconda3/lib/python3.11/site-packages (from requests->transformers>=4.18.0->trl) (2023.7.22)\n",
      "Requirement already satisfied: six in /Users/saumyabakshi/anaconda3/lib/python3.11/site-packages (from responses<0.19->datasets->trl) (1.16.0)\n",
      "Requirement already satisfied: markdown-it-py>=2.2.0 in /Users/saumyabakshi/anaconda3/lib/python3.11/site-packages (from rich>=11.1.0->tyro>=0.5.11->trl) (2.2.0)\n",
      "Requirement already satisfied: pygments<3.0.0,>=2.13.0 in /Users/saumyabakshi/anaconda3/lib/python3.11/site-packages (from rich>=11.1.0->tyro>=0.5.11->trl) (2.15.1)\n",
      "Requirement already satisfied: MarkupSafe>=2.0 in /Users/saumyabakshi/anaconda3/lib/python3.11/site-packages (from jinja2->torch>=1.4.0->trl) (2.1.1)\n",
      "Requirement already satisfied: python-dateutil>=2.8.1 in /Users/saumyabakshi/anaconda3/lib/python3.11/site-packages (from pandas->datasets->trl) (2.8.2)\n",
      "Requirement already satisfied: pytz>=2020.1 in /Users/saumyabakshi/anaconda3/lib/python3.11/site-packages (from pandas->datasets->trl) (2022.7)\n",
      "Requirement already satisfied: mpmath>=0.19 in /Users/saumyabakshi/anaconda3/lib/python3.11/site-packages (from sympy->torch>=1.4.0->trl) (1.3.0)\n",
      "Requirement already satisfied: mdurl~=0.1 in /Users/saumyabakshi/anaconda3/lib/python3.11/site-packages (from markdown-it-py>=2.2.0->rich>=11.1.0->tyro>=0.5.11->trl) (0.1.0)\n",
      "Collecting safetensors\n",
      "  Obtaining dependency information for safetensors from https://files.pythonhosted.org/packages/91/4f/bded5d0435a72f1bd39f5aaa81077d84fa39526a7c055cc8b8aa44fce681/safetensors-0.4.0-cp311-cp311-macosx_11_0_arm64.whl.metadata\n",
      "  Downloading safetensors-0.4.0-cp311-cp311-macosx_11_0_arm64.whl.metadata (3.8 kB)\n",
      "Downloading safetensors-0.4.0-cp311-cp311-macosx_11_0_arm64.whl (425 kB)\n",
      "\u001b[2K   \u001b[90m━━━━━━━━━━━━━━━━━━━━━━━━━━━━━━━━━━━━━━━━\u001b[0m \u001b[32m425.4/425.4 kB\u001b[0m \u001b[31m7.3 MB/s\u001b[0m eta \u001b[36m0:00:00\u001b[0ma \u001b[36m0:00:01\u001b[0m\n",
      "\u001b[?25hInstalling collected packages: safetensors\n",
      "Successfully installed safetensors-0.4.0\n"
     ]
    }
   ],
   "source": [
    "!pip install trl\n",
    "!pip install safetensors\n"
   ]
  },
  {
   "cell_type": "code",
   "execution_count": 6,
   "metadata": {},
   "outputs": [
    {
     "name": "stderr",
     "output_type": "stream",
     "text": [
      "/Users/saumyabakshi/anaconda3/lib/python3.11/site-packages/trl/trainer/ppo_config.py:141: UserWarning: The `optimize_cuda_cache` arguement will be deprecated soon, please use `optimize_device_cache` instead.\n",
      "  warnings.warn(\n"
     ]
    }
   ],
   "source": [
    "import trl\n"
   ]
  },
  {
   "cell_type": "code",
   "execution_count": 12,
   "metadata": {},
   "outputs": [],
   "source": [
    "import random\n",
    "import pandas as pd\n",
    "from operator import itemgetter\n",
    "import torch\n",
    "import warnings\n",
    "warnings.filterwarnings('ignore')\n",
    "from datasets import Dataset, load_dataset\n",
    "from transformers import AutoModelForSequenceClassification,AutoTokenizer,TrainingArguments\n",
    "from trl import RewardTrainer"
   ]
  },
  {
   "cell_type": "code",
   "execution_count": 8,
   "metadata": {},
   "outputs": [
    {
     "data": {
      "application/vnd.jupyter.widget-view+json": {
       "model_id": "575b304d73d9495d9d71ade0f804e0e6",
       "version_major": 2,
       "version_minor": 0
      },
      "text/plain": [
       "Downloading config.json:   0%|          | 0.00/480 [00:00<?, ?B/s]"
      ]
     },
     "metadata": {},
     "output_type": "display_data"
    },
    {
     "data": {
      "application/vnd.jupyter.widget-view+json": {
       "model_id": "7ce01cc92bfe469d8eb5addbe9635cc1",
       "version_major": 2,
       "version_minor": 0
      },
      "text/plain": [
       "Downloading model.safetensors:   0%|          | 0.00/331M [00:00<?, ?B/s]"
      ]
     },
     "metadata": {},
     "output_type": "display_data"
    },
    {
     "name": "stderr",
     "output_type": "stream",
     "text": [
      "Some weights of the model checkpoint at distilroberta-base were not used when initializing RobertaForSequenceClassification: ['lm_head.layer_norm.bias', 'roberta.pooler.dense.bias', 'lm_head.dense.weight', 'lm_head.dense.bias', 'lm_head.layer_norm.weight', 'roberta.pooler.dense.weight', 'lm_head.bias']\n",
      "- This IS expected if you are initializing RobertaForSequenceClassification from the checkpoint of a model trained on another task or with another architecture (e.g. initializing a BertForSequenceClassification model from a BertForPreTraining model).\n",
      "- This IS NOT expected if you are initializing RobertaForSequenceClassification from the checkpoint of a model that you expect to be exactly identical (initializing a BertForSequenceClassification model from a BertForSequenceClassification model).\n",
      "Some weights of RobertaForSequenceClassification were not initialized from the model checkpoint at distilroberta-base and are newly initialized: ['classifier.dense.bias', 'classifier.out_proj.weight', 'classifier.out_proj.bias', 'classifier.dense.weight']\n",
      "You should probably TRAIN this model on a down-stream task to be able to use it for predictions and inference.\n"
     ]
    },
    {
     "data": {
      "application/vnd.jupyter.widget-view+json": {
       "model_id": "be95869f4751460fa0b2251332764af4",
       "version_major": 2,
       "version_minor": 0
      },
      "text/plain": [
       "Downloading vocab.json:   0%|          | 0.00/899k [00:00<?, ?B/s]"
      ]
     },
     "metadata": {},
     "output_type": "display_data"
    },
    {
     "data": {
      "application/vnd.jupyter.widget-view+json": {
       "model_id": "6093bf4aeaa8411fad3c9877d6b109b9",
       "version_major": 2,
       "version_minor": 0
      },
      "text/plain": [
       "Downloading merges.txt:   0%|          | 0.00/456k [00:00<?, ?B/s]"
      ]
     },
     "metadata": {},
     "output_type": "display_data"
    },
    {
     "data": {
      "application/vnd.jupyter.widget-view+json": {
       "model_id": "2d45cbf5d9164320afe5488cd86f66e0",
       "version_major": 2,
       "version_minor": 0
      },
      "text/plain": [
       "Downloading tokenizer.json:   0%|          | 0.00/1.36M [00:00<?, ?B/s]"
      ]
     },
     "metadata": {},
     "output_type": "display_data"
    }
   ],
   "source": [
    "#Select a base model whch we need to train for reward modeling.\n",
    "model_name = \"distilroberta-base\"\n",
    "model = AutoModelForSequenceClassification.from_pretrained(model_name, num_labels=1)\n",
    "tokenizer = AutoTokenizer.from_pretrained(model_name)\n",
    "if tokenizer.pad_token is None:\n",
    "    tokenizer.pad_token = tokenizer.eos_token\n",
    "    model.config.pad_token_id = model.config.eos_token_id"
   ]
  },
  {
   "cell_type": "code",
   "execution_count": 19,
   "metadata": {},
   "outputs": [
    {
     "data": {
      "application/vnd.jupyter.widget-view+json": {
       "model_id": "0af44914c258496ca1cedaed40a6c652",
       "version_major": 2,
       "version_minor": 0
      },
      "text/plain": [
       "Map:   0%|          | 0/100 [00:00<?, ? examples/s]"
      ]
     },
     "metadata": {},
     "output_type": "display_data"
    },
    {
     "data": {
      "application/vnd.jupyter.widget-view+json": {
       "model_id": "57863e2d79a64232a7e5fdbfeb978b36",
       "version_major": 2,
       "version_minor": 0
      },
      "text/plain": [
       "  0%|          | 0/50 [00:00<?, ?it/s]"
      ]
     },
     "metadata": {},
     "output_type": "display_data"
    },
    {
     "name": "stderr",
     "output_type": "stream",
     "text": [
      "You're using a RobertaTokenizerFast tokenizer. Please note that with a fast tokenizer, using the `__call__` method is faster than using a method to encode the text followed by a call to the `pad` method to get a padded encoding.\n",
      "Could not estimate the number of tokens of the input, floating-point operations will not be computed\n"
     ]
    },
    {
     "name": "stdout",
     "output_type": "stream",
     "text": [
      "{'loss': 0.6869, 'learning_rate': 4.9e-05, 'epoch': 0.2}\n"
     ]
    },
    {
     "data": {
      "application/vnd.jupyter.widget-view+json": {
       "model_id": "6aaacf13348241efbedf5cc455d4f4f1",
       "version_major": 2,
       "version_minor": 0
      },
      "text/plain": [
       "  0%|          | 0/4 [00:00<?, ?it/s]"
      ]
     },
     "metadata": {},
     "output_type": "display_data"
    },
    {
     "name": "stdout",
     "output_type": "stream",
     "text": [
      "{'eval_loss': 0.6905409097671509, 'eval_accuracy': 0.68, 'eval_runtime': 11.9693, 'eval_samples_per_second': 2.089, 'eval_steps_per_second': 0.334, 'epoch': 0.2}\n",
      "{'loss': 0.6917, 'learning_rate': 4.8e-05, 'epoch': 0.4}\n"
     ]
    },
    {
     "data": {
      "application/vnd.jupyter.widget-view+json": {
       "model_id": "640f40af1ab94fc4b731403f297ab883",
       "version_major": 2,
       "version_minor": 0
      },
      "text/plain": [
       "  0%|          | 0/4 [00:00<?, ?it/s]"
      ]
     },
     "metadata": {},
     "output_type": "display_data"
    },
    {
     "name": "stdout",
     "output_type": "stream",
     "text": [
      "{'eval_loss': 0.689235508441925, 'eval_accuracy': 0.76, 'eval_runtime': 11.7804, 'eval_samples_per_second': 2.122, 'eval_steps_per_second': 0.34, 'epoch': 0.4}\n",
      "{'loss': 0.6678, 'learning_rate': 4.7e-05, 'epoch': 0.6}\n"
     ]
    },
    {
     "data": {
      "application/vnd.jupyter.widget-view+json": {
       "model_id": "aba6790f5f974ca3b95dafe352cf6d09",
       "version_major": 2,
       "version_minor": 0
      },
      "text/plain": [
       "  0%|          | 0/4 [00:00<?, ?it/s]"
      ]
     },
     "metadata": {},
     "output_type": "display_data"
    },
    {
     "name": "stdout",
     "output_type": "stream",
     "text": [
      "{'eval_loss': 0.6873899698257446, 'eval_accuracy': 0.72, 'eval_runtime': 11.6943, 'eval_samples_per_second': 2.138, 'eval_steps_per_second': 0.342, 'epoch': 0.6}\n",
      "{'loss': 0.6997, 'learning_rate': 4.600000000000001e-05, 'epoch': 0.8}\n"
     ]
    },
    {
     "data": {
      "application/vnd.jupyter.widget-view+json": {
       "model_id": "813e4d68c6d94eb39865344fba569fa1",
       "version_major": 2,
       "version_minor": 0
      },
      "text/plain": [
       "  0%|          | 0/4 [00:00<?, ?it/s]"
      ]
     },
     "metadata": {},
     "output_type": "display_data"
    },
    {
     "name": "stdout",
     "output_type": "stream",
     "text": [
      "{'eval_loss': 0.6854839324951172, 'eval_accuracy': 0.76, 'eval_runtime': 13.946, 'eval_samples_per_second': 1.793, 'eval_steps_per_second': 0.287, 'epoch': 0.8}\n",
      "{'loss': 0.7016, 'learning_rate': 4.5e-05, 'epoch': 1.0}\n"
     ]
    },
    {
     "data": {
      "application/vnd.jupyter.widget-view+json": {
       "model_id": "4c63506d1d3d4a59b14baa8f2cb13809",
       "version_major": 2,
       "version_minor": 0
      },
      "text/plain": [
       "  0%|          | 0/4 [00:00<?, ?it/s]"
      ]
     },
     "metadata": {},
     "output_type": "display_data"
    },
    {
     "name": "stdout",
     "output_type": "stream",
     "text": [
      "{'eval_loss': 0.6837994456291199, 'eval_accuracy': 0.72, 'eval_runtime': 12.5055, 'eval_samples_per_second': 1.999, 'eval_steps_per_second': 0.32, 'epoch': 1.0}\n",
      "{'loss': 0.7135, 'learning_rate': 4.4000000000000006e-05, 'epoch': 1.2}\n"
     ]
    },
    {
     "data": {
      "application/vnd.jupyter.widget-view+json": {
       "model_id": "bba57f442f434caea7072843ace658b2",
       "version_major": 2,
       "version_minor": 0
      },
      "text/plain": [
       "  0%|          | 0/4 [00:00<?, ?it/s]"
      ]
     },
     "metadata": {},
     "output_type": "display_data"
    },
    {
     "name": "stdout",
     "output_type": "stream",
     "text": [
      "{'eval_loss': 0.6815793514251709, 'eval_accuracy': 0.72, 'eval_runtime': 13.0535, 'eval_samples_per_second': 1.915, 'eval_steps_per_second': 0.306, 'epoch': 1.2}\n",
      "{'loss': 0.6771, 'learning_rate': 4.3e-05, 'epoch': 1.4}\n"
     ]
    },
    {
     "data": {
      "application/vnd.jupyter.widget-view+json": {
       "model_id": "3a90c08a477b4266a1a18f8bb1a0ad27",
       "version_major": 2,
       "version_minor": 0
      },
      "text/plain": [
       "  0%|          | 0/4 [00:00<?, ?it/s]"
      ]
     },
     "metadata": {},
     "output_type": "display_data"
    },
    {
     "name": "stdout",
     "output_type": "stream",
     "text": [
      "{'eval_loss': 0.6790731549263, 'eval_accuracy': 0.72, 'eval_runtime': 14.0064, 'eval_samples_per_second': 1.785, 'eval_steps_per_second': 0.286, 'epoch': 1.4}\n",
      "{'loss': 0.6881, 'learning_rate': 4.2e-05, 'epoch': 1.6}\n"
     ]
    },
    {
     "data": {
      "application/vnd.jupyter.widget-view+json": {
       "model_id": "8d5fbf4afb7a4162a4082099e7f7b268",
       "version_major": 2,
       "version_minor": 0
      },
      "text/plain": [
       "  0%|          | 0/4 [00:00<?, ?it/s]"
      ]
     },
     "metadata": {},
     "output_type": "display_data"
    },
    {
     "name": "stdout",
     "output_type": "stream",
     "text": [
      "{'eval_loss': 0.6754694581031799, 'eval_accuracy': 0.68, 'eval_runtime': 11.6071, 'eval_samples_per_second': 2.154, 'eval_steps_per_second': 0.345, 'epoch': 1.6}\n",
      "{'loss': 0.6582, 'learning_rate': 4.1e-05, 'epoch': 1.8}\n"
     ]
    },
    {
     "data": {
      "application/vnd.jupyter.widget-view+json": {
       "model_id": "17f97603c11241309a76b597e09bac47",
       "version_major": 2,
       "version_minor": 0
      },
      "text/plain": [
       "  0%|          | 0/4 [00:00<?, ?it/s]"
      ]
     },
     "metadata": {},
     "output_type": "display_data"
    },
    {
     "name": "stdout",
     "output_type": "stream",
     "text": [
      "{'eval_loss': 0.6699991822242737, 'eval_accuracy': 0.68, 'eval_runtime': 12.3883, 'eval_samples_per_second': 2.018, 'eval_steps_per_second': 0.323, 'epoch': 1.8}\n",
      "{'loss': 0.6534, 'learning_rate': 4e-05, 'epoch': 2.0}\n"
     ]
    },
    {
     "data": {
      "application/vnd.jupyter.widget-view+json": {
       "model_id": "540167714307485a9f6caf7a4ac4f53d",
       "version_major": 2,
       "version_minor": 0
      },
      "text/plain": [
       "  0%|          | 0/4 [00:00<?, ?it/s]"
      ]
     },
     "metadata": {},
     "output_type": "display_data"
    },
    {
     "name": "stdout",
     "output_type": "stream",
     "text": [
      "{'eval_loss': 0.6629499197006226, 'eval_accuracy': 0.68, 'eval_runtime': 12.5901, 'eval_samples_per_second': 1.986, 'eval_steps_per_second': 0.318, 'epoch': 2.0}\n",
      "{'loss': 0.6636, 'learning_rate': 3.9000000000000006e-05, 'epoch': 2.2}\n"
     ]
    },
    {
     "data": {
      "application/vnd.jupyter.widget-view+json": {
       "model_id": "2b1bc48fea5048fba019d45377dd53af",
       "version_major": 2,
       "version_minor": 0
      },
      "text/plain": [
       "  0%|          | 0/4 [00:00<?, ?it/s]"
      ]
     },
     "metadata": {},
     "output_type": "display_data"
    },
    {
     "name": "stdout",
     "output_type": "stream",
     "text": [
      "{'eval_loss': 0.6530793905258179, 'eval_accuracy': 0.76, 'eval_runtime': 12.5593, 'eval_samples_per_second': 1.991, 'eval_steps_per_second': 0.318, 'epoch': 2.2}\n",
      "{'loss': 0.6274, 'learning_rate': 3.8e-05, 'epoch': 2.4}\n"
     ]
    },
    {
     "data": {
      "application/vnd.jupyter.widget-view+json": {
       "model_id": "0b5cd2e2bf2f446693b8e75ebe1d23ac",
       "version_major": 2,
       "version_minor": 0
      },
      "text/plain": [
       "  0%|          | 0/4 [00:00<?, ?it/s]"
      ]
     },
     "metadata": {},
     "output_type": "display_data"
    },
    {
     "name": "stdout",
     "output_type": "stream",
     "text": [
      "{'eval_loss': 0.6397404670715332, 'eval_accuracy': 0.76, 'eval_runtime': 13.148, 'eval_samples_per_second': 1.901, 'eval_steps_per_second': 0.304, 'epoch': 2.4}\n",
      "{'loss': 0.5545, 'learning_rate': 3.7e-05, 'epoch': 2.6}\n"
     ]
    },
    {
     "data": {
      "application/vnd.jupyter.widget-view+json": {
       "model_id": "780ad31c3b964d498470bdc3e7249a6b",
       "version_major": 2,
       "version_minor": 0
      },
      "text/plain": [
       "  0%|          | 0/4 [00:00<?, ?it/s]"
      ]
     },
     "metadata": {},
     "output_type": "display_data"
    },
    {
     "name": "stdout",
     "output_type": "stream",
     "text": [
      "{'eval_loss': 0.6211355328559875, 'eval_accuracy': 0.76, 'eval_runtime': 11.9468, 'eval_samples_per_second': 2.093, 'eval_steps_per_second': 0.335, 'epoch': 2.6}\n",
      "{'loss': 0.5957, 'learning_rate': 3.6e-05, 'epoch': 2.8}\n"
     ]
    },
    {
     "data": {
      "application/vnd.jupyter.widget-view+json": {
       "model_id": "f28e2dbf2d5d415fada69eb0de80f5c6",
       "version_major": 2,
       "version_minor": 0
      },
      "text/plain": [
       "  0%|          | 0/4 [00:00<?, ?it/s]"
      ]
     },
     "metadata": {},
     "output_type": "display_data"
    },
    {
     "name": "stdout",
     "output_type": "stream",
     "text": [
      "{'eval_loss': 0.597759485244751, 'eval_accuracy': 0.76, 'eval_runtime': 13.0809, 'eval_samples_per_second': 1.911, 'eval_steps_per_second': 0.306, 'epoch': 2.8}\n",
      "{'loss': 0.4566, 'learning_rate': 3.5e-05, 'epoch': 3.0}\n"
     ]
    },
    {
     "data": {
      "application/vnd.jupyter.widget-view+json": {
       "model_id": "960b171e5a754a46b41c655f15ec075c",
       "version_major": 2,
       "version_minor": 0
      },
      "text/plain": [
       "  0%|          | 0/4 [00:00<?, ?it/s]"
      ]
     },
     "metadata": {},
     "output_type": "display_data"
    },
    {
     "name": "stdout",
     "output_type": "stream",
     "text": [
      "{'eval_loss': 0.5761299133300781, 'eval_accuracy': 0.76, 'eval_runtime': 12.305, 'eval_samples_per_second': 2.032, 'eval_steps_per_second': 0.325, 'epoch': 3.0}\n",
      "{'loss': 0.4425, 'learning_rate': 3.4000000000000007e-05, 'epoch': 3.2}\n"
     ]
    },
    {
     "data": {
      "application/vnd.jupyter.widget-view+json": {
       "model_id": "00b20dadade3474a8af26806c52c6976",
       "version_major": 2,
       "version_minor": 0
      },
      "text/plain": [
       "  0%|          | 0/4 [00:00<?, ?it/s]"
      ]
     },
     "metadata": {},
     "output_type": "display_data"
    },
    {
     "name": "stdout",
     "output_type": "stream",
     "text": [
      "{'eval_loss': 0.5601084232330322, 'eval_accuracy': 0.76, 'eval_runtime': 12.7659, 'eval_samples_per_second': 1.958, 'eval_steps_per_second': 0.313, 'epoch': 3.2}\n",
      "{'loss': 0.446, 'learning_rate': 3.3e-05, 'epoch': 3.4}\n"
     ]
    },
    {
     "data": {
      "application/vnd.jupyter.widget-view+json": {
       "model_id": "b7121d03600d477f963ec0b66cd6cd82",
       "version_major": 2,
       "version_minor": 0
      },
      "text/plain": [
       "  0%|          | 0/4 [00:00<?, ?it/s]"
      ]
     },
     "metadata": {},
     "output_type": "display_data"
    },
    {
     "name": "stdout",
     "output_type": "stream",
     "text": [
      "{'eval_loss': 0.5471807718276978, 'eval_accuracy': 0.76, 'eval_runtime': 12.26, 'eval_samples_per_second': 2.039, 'eval_steps_per_second': 0.326, 'epoch': 3.4}\n",
      "{'loss': 0.3271, 'learning_rate': 3.2000000000000005e-05, 'epoch': 3.6}\n"
     ]
    },
    {
     "data": {
      "application/vnd.jupyter.widget-view+json": {
       "model_id": "62931cb98c574461b242708919c0e57b",
       "version_major": 2,
       "version_minor": 0
      },
      "text/plain": [
       "  0%|          | 0/4 [00:00<?, ?it/s]"
      ]
     },
     "metadata": {},
     "output_type": "display_data"
    },
    {
     "name": "stdout",
     "output_type": "stream",
     "text": [
      "{'eval_loss': 0.5329362750053406, 'eval_accuracy': 0.76, 'eval_runtime': 12.4484, 'eval_samples_per_second': 2.008, 'eval_steps_per_second': 0.321, 'epoch': 3.6}\n",
      "{'loss': 0.3567, 'learning_rate': 3.1e-05, 'epoch': 3.8}\n"
     ]
    },
    {
     "data": {
      "application/vnd.jupyter.widget-view+json": {
       "model_id": "d07e50ed82c1423fa546b617b60ef0ca",
       "version_major": 2,
       "version_minor": 0
      },
      "text/plain": [
       "  0%|          | 0/4 [00:00<?, ?it/s]"
      ]
     },
     "metadata": {},
     "output_type": "display_data"
    },
    {
     "name": "stdout",
     "output_type": "stream",
     "text": [
      "{'eval_loss': 0.5212499499320984, 'eval_accuracy': 0.8, 'eval_runtime': 12.5897, 'eval_samples_per_second': 1.986, 'eval_steps_per_second': 0.318, 'epoch': 3.8}\n",
      "{'loss': 0.3777, 'learning_rate': 3e-05, 'epoch': 4.0}\n"
     ]
    },
    {
     "data": {
      "application/vnd.jupyter.widget-view+json": {
       "model_id": "70767e59592b404283ccd7d1628ac0c9",
       "version_major": 2,
       "version_minor": 0
      },
      "text/plain": [
       "  0%|          | 0/4 [00:00<?, ?it/s]"
      ]
     },
     "metadata": {},
     "output_type": "display_data"
    },
    {
     "name": "stdout",
     "output_type": "stream",
     "text": [
      "{'eval_loss': 0.5096458196640015, 'eval_accuracy': 0.8, 'eval_runtime': 12.1219, 'eval_samples_per_second': 2.062, 'eval_steps_per_second': 0.33, 'epoch': 4.0}\n",
      "{'loss': 0.2424, 'learning_rate': 2.9e-05, 'epoch': 4.2}\n"
     ]
    },
    {
     "data": {
      "application/vnd.jupyter.widget-view+json": {
       "model_id": "2520050faaa645c6b7489ea49be2d447",
       "version_major": 2,
       "version_minor": 0
      },
      "text/plain": [
       "  0%|          | 0/4 [00:00<?, ?it/s]"
      ]
     },
     "metadata": {},
     "output_type": "display_data"
    },
    {
     "name": "stdout",
     "output_type": "stream",
     "text": [
      "{'eval_loss': 0.5052017569541931, 'eval_accuracy': 0.8, 'eval_runtime': 12.2388, 'eval_samples_per_second': 2.043, 'eval_steps_per_second': 0.327, 'epoch': 4.2}\n",
      "{'loss': 0.1963, 'learning_rate': 2.8000000000000003e-05, 'epoch': 4.4}\n"
     ]
    },
    {
     "data": {
      "application/vnd.jupyter.widget-view+json": {
       "model_id": "77978519c3cd479791cfe869c91af441",
       "version_major": 2,
       "version_minor": 0
      },
      "text/plain": [
       "  0%|          | 0/4 [00:00<?, ?it/s]"
      ]
     },
     "metadata": {},
     "output_type": "display_data"
    },
    {
     "name": "stdout",
     "output_type": "stream",
     "text": [
      "{'eval_loss': 0.5130670070648193, 'eval_accuracy': 0.8, 'eval_runtime': 12.3169, 'eval_samples_per_second': 2.03, 'eval_steps_per_second': 0.325, 'epoch': 4.4}\n",
      "{'loss': 0.1647, 'learning_rate': 2.7000000000000002e-05, 'epoch': 4.6}\n"
     ]
    },
    {
     "data": {
      "application/vnd.jupyter.widget-view+json": {
       "model_id": "7228cf0152c3409ca1a08596756dddb6",
       "version_major": 2,
       "version_minor": 0
      },
      "text/plain": [
       "  0%|          | 0/4 [00:00<?, ?it/s]"
      ]
     },
     "metadata": {},
     "output_type": "display_data"
    },
    {
     "name": "stdout",
     "output_type": "stream",
     "text": [
      "{'eval_loss': 0.5338977575302124, 'eval_accuracy': 0.8, 'eval_runtime': 15.7399, 'eval_samples_per_second': 1.588, 'eval_steps_per_second': 0.254, 'epoch': 4.6}\n",
      "{'loss': 0.1499, 'learning_rate': 2.6000000000000002e-05, 'epoch': 4.8}\n"
     ]
    },
    {
     "data": {
      "application/vnd.jupyter.widget-view+json": {
       "model_id": "b3ae0d7e1ffa45fea59a5adebc726c14",
       "version_major": 2,
       "version_minor": 0
      },
      "text/plain": [
       "  0%|          | 0/4 [00:00<?, ?it/s]"
      ]
     },
     "metadata": {},
     "output_type": "display_data"
    },
    {
     "name": "stdout",
     "output_type": "stream",
     "text": [
      "{'eval_loss': 0.5659821033477783, 'eval_accuracy': 0.8, 'eval_runtime': 17.6692, 'eval_samples_per_second': 1.415, 'eval_steps_per_second': 0.226, 'epoch': 4.8}\n",
      "{'loss': 0.1633, 'learning_rate': 2.5e-05, 'epoch': 5.0}\n"
     ]
    },
    {
     "data": {
      "application/vnd.jupyter.widget-view+json": {
       "model_id": "47a992028b754abe8adb2a6d8c48b4c1",
       "version_major": 2,
       "version_minor": 0
      },
      "text/plain": [
       "  0%|          | 0/4 [00:00<?, ?it/s]"
      ]
     },
     "metadata": {},
     "output_type": "display_data"
    },
    {
     "name": "stdout",
     "output_type": "stream",
     "text": [
      "{'eval_loss': 0.6113457679748535, 'eval_accuracy': 0.76, 'eval_runtime': 15.8103, 'eval_samples_per_second': 1.581, 'eval_steps_per_second': 0.253, 'epoch': 5.0}\n",
      "{'loss': 0.0951, 'learning_rate': 2.4e-05, 'epoch': 5.2}\n"
     ]
    },
    {
     "data": {
      "application/vnd.jupyter.widget-view+json": {
       "model_id": "f465a1e83c734cc8af4abb8c377789e7",
       "version_major": 2,
       "version_minor": 0
      },
      "text/plain": [
       "  0%|          | 0/4 [00:00<?, ?it/s]"
      ]
     },
     "metadata": {},
     "output_type": "display_data"
    },
    {
     "name": "stdout",
     "output_type": "stream",
     "text": [
      "{'eval_loss': 0.6169002652168274, 'eval_accuracy': 0.76, 'eval_runtime': 14.4246, 'eval_samples_per_second': 1.733, 'eval_steps_per_second': 0.277, 'epoch': 5.2}\n",
      "{'loss': 0.0383, 'learning_rate': 2.3000000000000003e-05, 'epoch': 5.4}\n"
     ]
    },
    {
     "data": {
      "application/vnd.jupyter.widget-view+json": {
       "model_id": "a7f49459766945898e37b15517648d55",
       "version_major": 2,
       "version_minor": 0
      },
      "text/plain": [
       "  0%|          | 0/4 [00:00<?, ?it/s]"
      ]
     },
     "metadata": {},
     "output_type": "display_data"
    },
    {
     "name": "stdout",
     "output_type": "stream",
     "text": [
      "{'eval_loss': 0.5496769547462463, 'eval_accuracy': 0.76, 'eval_runtime': 14.0362, 'eval_samples_per_second': 1.781, 'eval_steps_per_second': 0.285, 'epoch': 5.4}\n",
      "{'loss': 0.137, 'learning_rate': 2.2000000000000003e-05, 'epoch': 5.6}\n"
     ]
    },
    {
     "data": {
      "application/vnd.jupyter.widget-view+json": {
       "model_id": "1d70f3d9a14a4565b6eaf706f96268c5",
       "version_major": 2,
       "version_minor": 0
      },
      "text/plain": [
       "  0%|          | 0/4 [00:00<?, ?it/s]"
      ]
     },
     "metadata": {},
     "output_type": "display_data"
    },
    {
     "name": "stdout",
     "output_type": "stream",
     "text": [
      "{'eval_loss': 0.5189404487609863, 'eval_accuracy': 0.76, 'eval_runtime': 15.8696, 'eval_samples_per_second': 1.575, 'eval_steps_per_second': 0.252, 'epoch': 5.6}\n",
      "{'loss': 0.097, 'learning_rate': 2.1e-05, 'epoch': 5.8}\n"
     ]
    },
    {
     "data": {
      "application/vnd.jupyter.widget-view+json": {
       "model_id": "badc6cd3c6594fb8b33911a2763736df",
       "version_major": 2,
       "version_minor": 0
      },
      "text/plain": [
       "  0%|          | 0/4 [00:00<?, ?it/s]"
      ]
     },
     "metadata": {},
     "output_type": "display_data"
    },
    {
     "name": "stdout",
     "output_type": "stream",
     "text": [
      "{'eval_loss': 0.5166919231414795, 'eval_accuracy': 0.76, 'eval_runtime': 13.6745, 'eval_samples_per_second': 1.828, 'eval_steps_per_second': 0.293, 'epoch': 5.8}\n",
      "{'loss': 0.0715, 'learning_rate': 2e-05, 'epoch': 6.0}\n"
     ]
    },
    {
     "data": {
      "application/vnd.jupyter.widget-view+json": {
       "model_id": "97eb660a0b954aacb4dd542526afe250",
       "version_major": 2,
       "version_minor": 0
      },
      "text/plain": [
       "  0%|          | 0/4 [00:00<?, ?it/s]"
      ]
     },
     "metadata": {},
     "output_type": "display_data"
    },
    {
     "name": "stdout",
     "output_type": "stream",
     "text": [
      "{'eval_loss': 0.5342941880226135, 'eval_accuracy': 0.76, 'eval_runtime': 13.646, 'eval_samples_per_second': 1.832, 'eval_steps_per_second': 0.293, 'epoch': 6.0}\n",
      "{'loss': 0.0411, 'learning_rate': 1.9e-05, 'epoch': 6.2}\n"
     ]
    },
    {
     "data": {
      "application/vnd.jupyter.widget-view+json": {
       "model_id": "5d3e7b7d954142f2ad6dd6951aea36ab",
       "version_major": 2,
       "version_minor": 0
      },
      "text/plain": [
       "  0%|          | 0/4 [00:00<?, ?it/s]"
      ]
     },
     "metadata": {},
     "output_type": "display_data"
    },
    {
     "name": "stdout",
     "output_type": "stream",
     "text": [
      "{'eval_loss': 0.576123058795929, 'eval_accuracy': 0.8, 'eval_runtime': 187.3778, 'eval_samples_per_second': 0.133, 'eval_steps_per_second': 0.021, 'epoch': 6.2}\n",
      "{'loss': 0.0448, 'learning_rate': 1.8e-05, 'epoch': 6.4}\n"
     ]
    },
    {
     "data": {
      "application/vnd.jupyter.widget-view+json": {
       "model_id": "1c26f1b4f8fc46c6ad39b342263d0824",
       "version_major": 2,
       "version_minor": 0
      },
      "text/plain": [
       "  0%|          | 0/4 [00:00<?, ?it/s]"
      ]
     },
     "metadata": {},
     "output_type": "display_data"
    },
    {
     "name": "stdout",
     "output_type": "stream",
     "text": [
      "{'eval_loss': 0.6445121169090271, 'eval_accuracy': 0.76, 'eval_runtime': 17.1606, 'eval_samples_per_second': 1.457, 'eval_steps_per_second': 0.233, 'epoch': 6.4}\n",
      "{'loss': 0.0407, 'learning_rate': 1.7000000000000003e-05, 'epoch': 6.6}\n"
     ]
    },
    {
     "data": {
      "application/vnd.jupyter.widget-view+json": {
       "model_id": "a5735c0d008d4e6fa6586874f49696ab",
       "version_major": 2,
       "version_minor": 0
      },
      "text/plain": [
       "  0%|          | 0/4 [00:00<?, ?it/s]"
      ]
     },
     "metadata": {},
     "output_type": "display_data"
    },
    {
     "name": "stdout",
     "output_type": "stream",
     "text": [
      "{'eval_loss': 0.6858886480331421, 'eval_accuracy': 0.72, 'eval_runtime': 14.3035, 'eval_samples_per_second': 1.748, 'eval_steps_per_second': 0.28, 'epoch': 6.6}\n",
      "{'loss': 0.0129, 'learning_rate': 1.6000000000000003e-05, 'epoch': 6.8}\n"
     ]
    },
    {
     "data": {
      "application/vnd.jupyter.widget-view+json": {
       "model_id": "66f2bb0ea0de4599aaf563198561323d",
       "version_major": 2,
       "version_minor": 0
      },
      "text/plain": [
       "  0%|          | 0/4 [00:00<?, ?it/s]"
      ]
     },
     "metadata": {},
     "output_type": "display_data"
    },
    {
     "name": "stdout",
     "output_type": "stream",
     "text": [
      "{'eval_loss': 0.6835224628448486, 'eval_accuracy': 0.72, 'eval_runtime': 13.6084, 'eval_samples_per_second': 1.837, 'eval_steps_per_second': 0.294, 'epoch': 6.8}\n",
      "{'loss': 0.0211, 'learning_rate': 1.5e-05, 'epoch': 7.0}\n"
     ]
    },
    {
     "data": {
      "application/vnd.jupyter.widget-view+json": {
       "model_id": "893855b2d632422b982b55767877f35d",
       "version_major": 2,
       "version_minor": 0
      },
      "text/plain": [
       "  0%|          | 0/4 [00:00<?, ?it/s]"
      ]
     },
     "metadata": {},
     "output_type": "display_data"
    },
    {
     "name": "stdout",
     "output_type": "stream",
     "text": [
      "{'eval_loss': 0.6516956090927124, 'eval_accuracy': 0.72, 'eval_runtime': 13.4603, 'eval_samples_per_second': 1.857, 'eval_steps_per_second': 0.297, 'epoch': 7.0}\n",
      "{'loss': 0.0111, 'learning_rate': 1.4000000000000001e-05, 'epoch': 7.2}\n"
     ]
    },
    {
     "data": {
      "application/vnd.jupyter.widget-view+json": {
       "model_id": "55591a0e6117474db0363aef6181fe4c",
       "version_major": 2,
       "version_minor": 0
      },
      "text/plain": [
       "  0%|          | 0/4 [00:00<?, ?it/s]"
      ]
     },
     "metadata": {},
     "output_type": "display_data"
    },
    {
     "name": "stdout",
     "output_type": "stream",
     "text": [
      "{'eval_loss': 0.6352047920227051, 'eval_accuracy': 0.72, 'eval_runtime': 14.7987, 'eval_samples_per_second': 1.689, 'eval_steps_per_second': 0.27, 'epoch': 7.2}\n",
      "{'loss': 0.0332, 'learning_rate': 1.3000000000000001e-05, 'epoch': 7.4}\n"
     ]
    },
    {
     "data": {
      "application/vnd.jupyter.widget-view+json": {
       "model_id": "79b78250d8594464b3a4ee45e297fd20",
       "version_major": 2,
       "version_minor": 0
      },
      "text/plain": [
       "  0%|          | 0/4 [00:00<?, ?it/s]"
      ]
     },
     "metadata": {},
     "output_type": "display_data"
    },
    {
     "name": "stdout",
     "output_type": "stream",
     "text": [
      "{'eval_loss': 0.6432536244392395, 'eval_accuracy': 0.72, 'eval_runtime': 13.0338, 'eval_samples_per_second': 1.918, 'eval_steps_per_second': 0.307, 'epoch': 7.4}\n",
      "{'loss': 0.0066, 'learning_rate': 1.2e-05, 'epoch': 7.6}\n"
     ]
    },
    {
     "data": {
      "application/vnd.jupyter.widget-view+json": {
       "model_id": "fc404c0ba8a64b46a926855bdeb68c6e",
       "version_major": 2,
       "version_minor": 0
      },
      "text/plain": [
       "  0%|          | 0/4 [00:00<?, ?it/s]"
      ]
     },
     "metadata": {},
     "output_type": "display_data"
    },
    {
     "name": "stdout",
     "output_type": "stream",
     "text": [
      "{'eval_loss': 0.6632533073425293, 'eval_accuracy': 0.72, 'eval_runtime': 16.0887, 'eval_samples_per_second': 1.554, 'eval_steps_per_second': 0.249, 'epoch': 7.6}\n",
      "{'loss': 0.0143, 'learning_rate': 1.1000000000000001e-05, 'epoch': 7.8}\n"
     ]
    },
    {
     "data": {
      "application/vnd.jupyter.widget-view+json": {
       "model_id": "339597b6ccb942b982098421465d3b8a",
       "version_major": 2,
       "version_minor": 0
      },
      "text/plain": [
       "  0%|          | 0/4 [00:00<?, ?it/s]"
      ]
     },
     "metadata": {},
     "output_type": "display_data"
    },
    {
     "name": "stdout",
     "output_type": "stream",
     "text": [
      "{'eval_loss': 0.6893447041511536, 'eval_accuracy': 0.72, 'eval_runtime': 13.1888, 'eval_samples_per_second': 1.896, 'eval_steps_per_second': 0.303, 'epoch': 7.8}\n",
      "{'loss': 0.0032, 'learning_rate': 1e-05, 'epoch': 8.0}\n"
     ]
    },
    {
     "data": {
      "application/vnd.jupyter.widget-view+json": {
       "model_id": "211e1a7496f440ce860aad937af66aed",
       "version_major": 2,
       "version_minor": 0
      },
      "text/plain": [
       "  0%|          | 0/4 [00:00<?, ?it/s]"
      ]
     },
     "metadata": {},
     "output_type": "display_data"
    },
    {
     "name": "stdout",
     "output_type": "stream",
     "text": [
      "{'eval_loss': 0.7063437700271606, 'eval_accuracy': 0.72, 'eval_runtime': 13.447, 'eval_samples_per_second': 1.859, 'eval_steps_per_second': 0.297, 'epoch': 8.0}\n",
      "{'loss': 0.0091, 'learning_rate': 9e-06, 'epoch': 8.2}\n"
     ]
    },
    {
     "data": {
      "application/vnd.jupyter.widget-view+json": {
       "model_id": "9842c1b14d5848b8b27a8d23ce4a5e29",
       "version_major": 2,
       "version_minor": 0
      },
      "text/plain": [
       "  0%|          | 0/4 [00:00<?, ?it/s]"
      ]
     },
     "metadata": {},
     "output_type": "display_data"
    },
    {
     "name": "stdout",
     "output_type": "stream",
     "text": [
      "{'eval_loss': 0.7233476042747498, 'eval_accuracy': 0.72, 'eval_runtime': 12.9212, 'eval_samples_per_second': 1.935, 'eval_steps_per_second': 0.31, 'epoch': 8.2}\n",
      "{'loss': 0.002, 'learning_rate': 8.000000000000001e-06, 'epoch': 8.4}\n"
     ]
    },
    {
     "data": {
      "application/vnd.jupyter.widget-view+json": {
       "model_id": "023f7c5bc7b94e6185dd316827d55065",
       "version_major": 2,
       "version_minor": 0
      },
      "text/plain": [
       "  0%|          | 0/4 [00:00<?, ?it/s]"
      ]
     },
     "metadata": {},
     "output_type": "display_data"
    },
    {
     "name": "stdout",
     "output_type": "stream",
     "text": [
      "{'eval_loss': 0.735893189907074, 'eval_accuracy': 0.72, 'eval_runtime': 16.2889, 'eval_samples_per_second': 1.535, 'eval_steps_per_second': 0.246, 'epoch': 8.4}\n",
      "{'loss': 0.0062, 'learning_rate': 7.000000000000001e-06, 'epoch': 8.6}\n"
     ]
    },
    {
     "data": {
      "application/vnd.jupyter.widget-view+json": {
       "model_id": "5e9051896bf9460faa5a11f2fd5f5d1d",
       "version_major": 2,
       "version_minor": 0
      },
      "text/plain": [
       "  0%|          | 0/4 [00:00<?, ?it/s]"
      ]
     },
     "metadata": {},
     "output_type": "display_data"
    },
    {
     "name": "stdout",
     "output_type": "stream",
     "text": [
      "{'eval_loss': 0.7468158006668091, 'eval_accuracy': 0.72, 'eval_runtime': 12.2548, 'eval_samples_per_second': 2.04, 'eval_steps_per_second': 0.326, 'epoch': 8.6}\n",
      "{'loss': 0.005, 'learning_rate': 6e-06, 'epoch': 8.8}\n"
     ]
    },
    {
     "data": {
      "application/vnd.jupyter.widget-view+json": {
       "model_id": "d427dc10743b492f893441b849f88bc8",
       "version_major": 2,
       "version_minor": 0
      },
      "text/plain": [
       "  0%|          | 0/4 [00:00<?, ?it/s]"
      ]
     },
     "metadata": {},
     "output_type": "display_data"
    },
    {
     "name": "stdout",
     "output_type": "stream",
     "text": [
      "{'eval_loss': 0.7562980651855469, 'eval_accuracy': 0.72, 'eval_runtime': 12.8956, 'eval_samples_per_second': 1.939, 'eval_steps_per_second': 0.31, 'epoch': 8.8}\n",
      "{'loss': 0.0087, 'learning_rate': 5e-06, 'epoch': 9.0}\n"
     ]
    },
    {
     "data": {
      "application/vnd.jupyter.widget-view+json": {
       "model_id": "79227e6ed560431189c303e249556aa4",
       "version_major": 2,
       "version_minor": 0
      },
      "text/plain": [
       "  0%|          | 0/4 [00:00<?, ?it/s]"
      ]
     },
     "metadata": {},
     "output_type": "display_data"
    },
    {
     "name": "stdout",
     "output_type": "stream",
     "text": [
      "{'eval_loss': 0.7632887959480286, 'eval_accuracy': 0.72, 'eval_runtime': 12.9945, 'eval_samples_per_second': 1.924, 'eval_steps_per_second': 0.308, 'epoch': 9.0}\n",
      "{'loss': 0.0047, 'learning_rate': 4.000000000000001e-06, 'epoch': 9.2}\n"
     ]
    },
    {
     "data": {
      "application/vnd.jupyter.widget-view+json": {
       "model_id": "208865f699944f7e81935e047eff8dc1",
       "version_major": 2,
       "version_minor": 0
      },
      "text/plain": [
       "  0%|          | 0/4 [00:00<?, ?it/s]"
      ]
     },
     "metadata": {},
     "output_type": "display_data"
    },
    {
     "name": "stdout",
     "output_type": "stream",
     "text": [
      "{'eval_loss': 0.7674711346626282, 'eval_accuracy': 0.72, 'eval_runtime': 12.6789, 'eval_samples_per_second': 1.972, 'eval_steps_per_second': 0.315, 'epoch': 9.2}\n",
      "{'loss': 0.0024, 'learning_rate': 3e-06, 'epoch': 9.4}\n"
     ]
    },
    {
     "data": {
      "application/vnd.jupyter.widget-view+json": {
       "model_id": "8c93589ecd364a5a82b361c21f631bc6",
       "version_major": 2,
       "version_minor": 0
      },
      "text/plain": [
       "  0%|          | 0/4 [00:00<?, ?it/s]"
      ]
     },
     "metadata": {},
     "output_type": "display_data"
    },
    {
     "name": "stdout",
     "output_type": "stream",
     "text": [
      "{'eval_loss': 0.7707155346870422, 'eval_accuracy': 0.72, 'eval_runtime': 13.0919, 'eval_samples_per_second': 1.91, 'eval_steps_per_second': 0.306, 'epoch': 9.4}\n",
      "{'loss': 0.0036, 'learning_rate': 2.0000000000000003e-06, 'epoch': 9.6}\n"
     ]
    },
    {
     "data": {
      "application/vnd.jupyter.widget-view+json": {
       "model_id": "0e01b7e61bd24b25a71929e7e8eabe84",
       "version_major": 2,
       "version_minor": 0
      },
      "text/plain": [
       "  0%|          | 0/4 [00:00<?, ?it/s]"
      ]
     },
     "metadata": {},
     "output_type": "display_data"
    },
    {
     "name": "stdout",
     "output_type": "stream",
     "text": [
      "{'eval_loss': 0.7725088596343994, 'eval_accuracy': 0.72, 'eval_runtime': 12.7704, 'eval_samples_per_second': 1.958, 'eval_steps_per_second': 0.313, 'epoch': 9.6}\n",
      "{'loss': 0.0025, 'learning_rate': 1.0000000000000002e-06, 'epoch': 9.8}\n"
     ]
    },
    {
     "data": {
      "application/vnd.jupyter.widget-view+json": {
       "model_id": "773384e0399f4864ad8e6469ed80d0d7",
       "version_major": 2,
       "version_minor": 0
      },
      "text/plain": [
       "  0%|          | 0/4 [00:00<?, ?it/s]"
      ]
     },
     "metadata": {},
     "output_type": "display_data"
    },
    {
     "name": "stdout",
     "output_type": "stream",
     "text": [
      "{'eval_loss': 0.7732922434806824, 'eval_accuracy': 0.72, 'eval_runtime': 12.5325, 'eval_samples_per_second': 1.995, 'eval_steps_per_second': 0.319, 'epoch': 9.8}\n",
      "{'loss': 0.0022, 'learning_rate': 0.0, 'epoch': 10.0}\n"
     ]
    },
    {
     "data": {
      "application/vnd.jupyter.widget-view+json": {
       "model_id": "0568cedab9c14f3eba7a83a3cff92064",
       "version_major": 2,
       "version_minor": 0
      },
      "text/plain": [
       "  0%|          | 0/4 [00:00<?, ?it/s]"
      ]
     },
     "metadata": {},
     "output_type": "display_data"
    },
    {
     "name": "stdout",
     "output_type": "stream",
     "text": [
      "{'eval_loss': 0.7734549641609192, 'eval_accuracy': 0.72, 'eval_runtime': 12.546, 'eval_samples_per_second': 1.993, 'eval_steps_per_second': 0.319, 'epoch': 10.0}\n",
      "{'train_runtime': 3316.1998, 'train_samples_per_second': 0.226, 'train_steps_per_second': 0.015, 'train_loss': 0.2663334091147408, 'epoch': 10.0}\n"
     ]
    },
    {
     "data": {
      "text/plain": [
       "TrainOutput(global_step=50, training_loss=0.2663334091147408, metrics={'train_runtime': 3316.1998, 'train_samples_per_second': 0.226, 'train_steps_per_second': 0.015, 'train_loss': 0.2663334091147408, 'epoch': 10.0})"
      ]
     },
     "execution_count": 19,
     "metadata": {},
     "output_type": "execute_result"
    }
   ],
   "source": [
    "def formatting_func(examples):\n",
    "    kwargs = {\"padding\": \"max_length\", \"truncation\": True, \"max_length\": 512, \"return_tensors\": \"pt\"}\n",
    "    prompt_plus_chosen_response = examples[\"Accepted_response\"]\n",
    "    prompt_plus_rejected_response = examples[\"Rejected_response\"]\n",
    "    tokens_chosen = tokenizer.encode_plus(prompt_plus_chosen_response, **kwargs)\n",
    "    tokens_rejected = tokenizer.encode_plus(prompt_plus_rejected_response, **kwargs)\n",
    "    return {\n",
    "        \"input_ids_chosen\": tokens_chosen[\"input_ids\"][0], \"attention_mask_chosen\": tokens_chosen[\"attention_mask\"][0],\n",
    "        \"input_ids_rejected\": tokens_rejected[\"input_ids\"][0], \"attention_mask_rejected\": tokens_rejected[\"attention_mask\"][0]\n",
    "    }\n",
    "\n",
    "from datasets import Dataset\n",
    "\n",
    "# Assuming `formatted_dataset` is a DataFrame after applying `formatting_func`\n",
    "dataset = Dataset.from_pandas(combined_df)\n",
    "\n",
    "formatted_dataset = dataset.map(formatting_func)\n",
    "\n",
    "formatted_dataset = formatted_dataset.train_test_split()\n",
    "# Configuring the training arguments\n",
    "training_args = TrainingArguments(\n",
    "    output_dir=\"./reward_model\",\n",
    "    per_device_train_batch_size=16,\n",
    "    evaluation_strategy=\"steps\",\n",
    "    logging_steps=1,\n",
    "    num_train_epochs = 10,\n",
    "    report_to=None,\n",
    ")\n",
    "# Loading the RewardTrainer from TRL\n",
    "trainer = RewardTrainer(\n",
    "    model=model,\n",
    "    args=training_args,\n",
    "    tokenizer=tokenizer,\n",
    "    train_dataset=formatted_dataset[\"train\"],\n",
    "    eval_dataset=formatted_dataset[\"test\"],\n",
    ")\n",
    "trainer.train()"
   ]
  },
  {
   "cell_type": "code",
   "execution_count": null,
   "metadata": {},
   "outputs": [],
   "source": [
    "# TODO add testing code here\n"
   ]
  },
  {
   "cell_type": "code",
   "execution_count": null,
   "metadata": {},
   "outputs": [],
   "source": [
    "# TODO metrics to see efiicency of model "
   ]
  }
 ],
 "metadata": {
  "kernelspec": {
   "display_name": "base",
   "language": "python",
   "name": "python3"
  },
  "language_info": {
   "codemirror_mode": {
    "name": "ipython",
    "version": 3
   },
   "file_extension": ".py",
   "mimetype": "text/x-python",
   "name": "python",
   "nbconvert_exporter": "python",
   "pygments_lexer": "ipython3",
   "version": "3.11.4"
  }
 },
 "nbformat": 4,
 "nbformat_minor": 2
}
